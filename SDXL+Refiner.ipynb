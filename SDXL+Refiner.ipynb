{
 "cells": [
  {
   "cell_type": "code",
   "execution_count": null,
   "metadata": {},
   "outputs": [],
   "source": [
    "!pip install diffusers --upgrade\n",
    "!pip install invisible_watermark transformers accelerate safetensors"
   ]
  },
  {
   "cell_type": "code",
   "execution_count": null,
   "metadata": {},
   "outputs": [],
   "source": [
    "from diffusers import DiffusionPipeline\n",
    "import torch\n",
    "\n",
    "base = DiffusionPipeline.from_pretrained(\n",
    "    \"stabilityai/stable-diffusion-xl-base-1.0\",\n",
    "    torch_dtype=torch.float16,\n",
    "    variant=\"fp16\",\n",
    "    use_safetensors=True,\n",
    ")\n",
    "base.to(\"cuda\")\n",
    "#pipe.enable_xformers_memory_efficient_attention()\n",
    "#pipe.enable_attention_slicing()\n",
    "#pipe.enable_model_cpu_offload()\n",
    "\n",
    "refiner = DiffusionPipeline.from_pretrained(\n",
    "    \"stabilityai/stable-diffusion-xl-refiner-1.0\",\n",
    "    text_encoder_2=base.text_encoder_2,\n",
    "    vae=base.vae,\n",
    "    torch_dtype=torch.float16,\n",
    "    use_safetensors=True,\n",
    "    variant=\"fp16\",\n",
    ")\n",
    "refiner.to(\"cuda\")\n",
    "\n",
    "prompt = \"a photo of beautiful cat,color white,blue eyes,Vincent van Gogh\"\n",
    "\n",
    "image = base(\n",
    "    prompt=prompt,\n",
    "    num_inference_steps=20,\n",
    "    denoising_end=0.8,\n",
    "    output_type=\"latent\",\n",
    ").images\n",
    "\n",
    "refiner(\n",
    "    prompt=prompt,\n",
    "    num_inference_steps=20,\n",
    "    denoising_start=0.8,\n",
    "    image=image,\n",
    ").images[0]"
   ]
  }
 ],
 "metadata": {
  "language_info": {
   "name": "python"
  }
 },
 "nbformat": 4,
 "nbformat_minor": 2
}
