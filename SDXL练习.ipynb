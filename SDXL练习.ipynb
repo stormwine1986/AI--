{
 "cells": [
  {
   "cell_type": "code",
   "execution_count": null,
   "metadata": {},
   "outputs": [],
   "source": [
    "!pip install diffusers --upgrade\n",
    "!pip install invisible_watermark transformers accelerate safetensors"
   ]
  },
  {
   "cell_type": "code",
   "execution_count": null,
   "metadata": {},
   "outputs": [],
   "source": [
    "from diffusers import DiffusionPipeline\n",
    "import torch\n",
    "\n",
    "pipe = DiffusionPipeline.from_pretrained(\"stabilityai/stable-diffusion-xl-base-1.0\", torch_dtype=torch.float16, variant=\"fp16\")\n",
    "pipe.to(\"cuda\")\n",
    "#pipe.enable_xformers_memory_efficient_attention()\n",
    "#pipe.enable_attention_slicing()\n",
    "#pipe.enable_model_cpu_offload()\n",
    "\n",
    "prompt = \"a photo of beautiful cat,color white,blue eyes,coffe bar,Vincent van Gogh\"\n",
    "\n",
    "images = pipe(prompt=prompt, num_inference_steps=20).images\n",
    "\n",
    "images[0]"
   ]
  }
 ],
 "metadata": {
  "language_info": {
   "name": "python"
  }
 },
 "nbformat": 4,
 "nbformat_minor": 2
}
